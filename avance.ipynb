{
 "cells": [
  {
   "cell_type": "markdown",
   "id": "16da60c7",
   "metadata": {},
   "source": [
    "# Propuesta de proyecto: Uso de muestreo repetitivo para mejorar el rendimiento de una LLM en recomendación conversacional"
   ]
  },
  {
   "cell_type": "code",
   "execution_count": 1,
   "id": "980bc4b6",
   "metadata": {},
   "outputs": [
    {
     "name": "stderr",
     "output_type": "stream",
     "text": [
      "c:\\Users\\nicol.DESKTOP-C6FU6UA.000\\.pyenv\\pyenv-win\\versions\\3.10.11\\lib\\site-packages\\tqdm\\auto.py:21: TqdmWarning: IProgress not found. Please update jupyter and ipywidgets. See https://ipywidgets.readthedocs.io/en/stable/user_install.html\n",
      "  from .autonotebook import tqdm as notebook_tqdm\n"
     ]
    }
   ],
   "source": [
    "from transformers import AutoTokenizer, AutoModelForCausalLM\n",
    "\n",
    "model_name_1 = \"TinyLlama/TinyLlama-1.1B-Chat-v1.0\"\n",
    "tokenizer_1 = AutoTokenizer.from_pretrained(model_name_1)\n",
    "# model_1 = AutoModelForCausalLM.from_pretrained(model_name_1)\n",
    "\n",
    "model_name_2 = \"distilgpt2\"\n",
    "tokenizer_2 = AutoTokenizer.from_pretrained(model_name_2)\n",
    "# model_2 = AutoModelForCausalLM.from_pretrained(model_name_2)"
   ]
  },
  {
   "cell_type": "code",
   "execution_count": null,
   "id": "d8b4296a",
   "metadata": {},
   "outputs": [
    {
     "name": "stdout",
     "output_type": "stream",
     "text": [
      "tensor([[    1,   360,   603,  5291, 11293,  9857,  7853,  2049, 29889,    13,\n",
      "            13, 29906, 29889,   376, 29925,   554,  9857,  2921, 29908,   313,\n",
      "         29906, 29900, 29896, 29953,  1125,   910, 18765,   287, 16832,  3748,\n",
      "         16869,   366,  4380, 21747,  9857,   297,  1855, 29899, 11526, 14354,\n",
      "         29892,   322,   372, 29915, 29879,  4953,   263,  5534, 27791,   265,\n",
      "         29889,    13,    13, 29941, 29889,   376,  1576,  5682,   355,   310,\n",
      "         27997,  1388, 29901,  5826,   493,   310,   278, 11821, 29908,   313,\n",
      "         29906, 29900, 29896, 29955,  1125,   910,  1722, 29899, 11526,  3748,\n",
      "          4893,  2058,   297,   263, 13426, 29892,  1722,  3186, 29892,   322,\n",
      "           372, 29915, 29879,  1063,  7213,  3368,   363,   967,   380, 27389,\n",
      "         18533,   322,  5198,   414,   573,  3748,  1456, 29889]])\n"
     ]
    }
   ],
   "source": [
    "\n",
    "# Entrada\n",
    "input_text = \"Dime tu pokemon favorito\"\n",
    "inputs = tokenizer_1(input_text, return_tensors=\"pt\")\n",
    "\n",
    "# Generar texto\n",
    "outputs = model_1.generate(inputs[\"input_ids\"], max_new_tokens=100)\n",
    "print(outputs)"
   ]
  },
  {
   "cell_type": "code",
   "execution_count": 7,
   "id": "d73f1cb6",
   "metadata": {},
   "outputs": [
    {
     "name": "stdout",
     "output_type": "stream",
     "text": [
      "Dime tu pokemon favorito.\n",
      "\n",
      "2. \"Pokemon Go\" (2016): This augmented reality game lets you catch Pokemon in real-world locations, and it's become a global phenomenon.\n",
      "\n",
      "3. \"The Legend of Zelda: Breath of the Wild\" (2017): This open-world game takes place in a vast, open world, and it's been praised for its stunning graphics and immersive gameplay.\n"
     ]
    }
   ],
   "source": [
    "print(tokenizer_1.decode(outputs[0], skip_special_tokens=True))"
   ]
  },
  {
   "cell_type": "code",
   "execution_count": 9,
   "id": "ed41be15",
   "metadata": {},
   "outputs": [
    {
     "name": "stderr",
     "output_type": "stream",
     "text": [
      "The attention mask and the pad token id were not set. As a consequence, you may observe unexpected behavior. Please pass your input's `attention_mask` to obtain reliable results.\n",
      "Setting `pad_token_id` to `eos_token_id`:50256 for open-end generation.\n"
     ]
    },
    {
     "name": "stdout",
     "output_type": "stream",
     "text": [
      "tensor([[   35,   524, 12777, 43962,  2661, 10094,    13,   198,   198,   198,\n",
      "           198,   198,   198,   198,   198,   198,   198,   198,   198,   198,\n",
      "           198,   198,   198,   198,   198,   198,   198,   198,   198,   198,\n",
      "           198,   198,   198,   198,   198,   198,   198,   198,   198,   198,\n",
      "           198,   198,   198,   198,   198,   198,   198,   198,   198,   198,\n",
      "           198,   198,   198,   198,   198,   198,   198,   198,   198,   198,\n",
      "           198,   198,   198,   198,   198,   198,   198,   198,   198,   198,\n",
      "           198,   198,   198,   198,   198,   198,   198,   198,   198,   198,\n",
      "           198,   198,   198,   198,   198,   198,   198,   198,   198,   198,\n",
      "           198,   198,   198,   198,   198,   198,   198,   198,   198,   198,\n",
      "           198,   198,   198,   198,   198,   198]])\n",
      "Dime tu pokemon favorito.\n",
      "\n",
      "\n",
      "\n",
      "\n",
      "\n",
      "\n",
      "\n",
      "\n",
      "\n",
      "\n",
      "\n",
      "\n",
      "\n",
      "\n",
      "\n",
      "\n",
      "\n",
      "\n",
      "\n",
      "\n",
      "\n",
      "\n",
      "\n",
      "\n",
      "\n",
      "\n",
      "\n",
      "\n",
      "\n",
      "\n",
      "\n",
      "\n",
      "\n",
      "\n",
      "\n",
      "\n",
      "\n",
      "\n",
      "\n",
      "\n",
      "\n",
      "\n",
      "\n",
      "\n",
      "\n",
      "\n",
      "\n",
      "\n",
      "\n",
      "\n",
      "\n",
      "\n",
      "\n",
      "\n",
      "\n",
      "\n",
      "\n",
      "\n",
      "\n",
      "\n",
      "\n",
      "\n",
      "\n",
      "\n",
      "\n",
      "\n",
      "\n",
      "\n",
      "\n",
      "\n",
      "\n",
      "\n",
      "\n",
      "\n",
      "\n",
      "\n",
      "\n",
      "\n",
      "\n",
      "\n",
      "\n",
      "\n",
      "\n",
      "\n",
      "\n",
      "\n",
      "\n",
      "\n",
      "\n",
      "\n",
      "\n",
      "\n",
      "\n",
      "\n",
      "\n",
      "\n",
      "\n",
      "\n",
      "\n"
     ]
    }
   ],
   "source": [
    "\n",
    "# Entrada\n",
    "input_text = \"Dime tu pokemon favorito\"\n",
    "inputs = tokenizer_2(input_text, return_tensors=\"pt\")\n",
    "\n",
    "# Generar texto\n",
    "outputs = model_2.generate(inputs[\"input_ids\"], max_new_tokens=100)\n",
    "print(outputs)\n",
    "print(tokenizer_2.decode(outputs[0], skip_special_tokens=True))"
   ]
  },
  {
   "cell_type": "code",
   "execution_count": 12,
   "id": "54796a17",
   "metadata": {},
   "outputs": [
    {
     "name": "stdout",
     "output_type": "stream",
     "text": [
      "Collecting accelerate\n",
      "  Downloading accelerate-1.6.0-py3-none-any.whl (354 kB)\n",
      "     ---------------------------------------- 0.0/354.7 kB ? eta -:--:--\n",
      "     --------------------- ---------------- 204.8/354.7 kB 4.1 MB/s eta 0:00:01\n",
      "     -------------------------------------- 354.7/354.7 kB 4.4 MB/s eta 0:00:00\n",
      "Requirement already satisfied: numpy<3.0.0,>=1.17 in c:\\users\\nicol.desktop-c6fu6ua.000\\.pyenv\\pyenv-win\\versions\\3.10.11\\lib\\site-packages (from accelerate) (2.2.5)\n",
      "Requirement already satisfied: packaging>=20.0 in c:\\users\\nicol.desktop-c6fu6ua.000\\.pyenv\\pyenv-win\\versions\\3.10.11\\lib\\site-packages (from accelerate) (24.2)\n",
      "Requirement already satisfied: huggingface-hub>=0.21.0 in c:\\users\\nicol.desktop-c6fu6ua.000\\.pyenv\\pyenv-win\\versions\\3.10.11\\lib\\site-packages (from accelerate) (0.31.1)\n",
      "Requirement already satisfied: psutil in c:\\users\\nicol.desktop-c6fu6ua.000\\.pyenv\\pyenv-win\\versions\\3.10.11\\lib\\site-packages (from accelerate) (7.0.0)\n",
      "Requirement already satisfied: safetensors>=0.4.3 in c:\\users\\nicol.desktop-c6fu6ua.000\\.pyenv\\pyenv-win\\versions\\3.10.11\\lib\\site-packages (from accelerate) (0.5.3)\n",
      "Requirement already satisfied: torch>=2.0.0 in c:\\users\\nicol.desktop-c6fu6ua.000\\.pyenv\\pyenv-win\\versions\\3.10.11\\lib\\site-packages (from accelerate) (2.7.0)\n",
      "Requirement already satisfied: pyyaml in c:\\users\\nicol.desktop-c6fu6ua.000\\.pyenv\\pyenv-win\\versions\\3.10.11\\lib\\site-packages (from accelerate) (6.0.2)\n",
      "Requirement already satisfied: fsspec>=2023.5.0 in c:\\users\\nicol.desktop-c6fu6ua.000\\.pyenv\\pyenv-win\\versions\\3.10.11\\lib\\site-packages (from huggingface-hub>=0.21.0->accelerate) (2025.3.2)\n",
      "Requirement already satisfied: filelock in c:\\users\\nicol.desktop-c6fu6ua.000\\.pyenv\\pyenv-win\\versions\\3.10.11\\lib\\site-packages (from huggingface-hub>=0.21.0->accelerate) (3.18.0)\n",
      "Requirement already satisfied: typing-extensions>=3.7.4.3 in c:\\users\\nicol.desktop-c6fu6ua.000\\.pyenv\\pyenv-win\\versions\\3.10.11\\lib\\site-packages (from huggingface-hub>=0.21.0->accelerate) (4.13.0)\n",
      "Requirement already satisfied: tqdm>=4.42.1 in c:\\users\\nicol.desktop-c6fu6ua.000\\.pyenv\\pyenv-win\\versions\\3.10.11\\lib\\site-packages (from huggingface-hub>=0.21.0->accelerate) (4.67.1)\n",
      "Requirement already satisfied: requests in c:\\users\\nicol.desktop-c6fu6ua.000\\.pyenv\\pyenv-win\\versions\\3.10.11\\lib\\site-packages (from huggingface-hub>=0.21.0->accelerate) (2.32.3)\n",
      "Requirement already satisfied: sympy>=1.13.3 in c:\\users\\nicol.desktop-c6fu6ua.000\\.pyenv\\pyenv-win\\versions\\3.10.11\\lib\\site-packages (from torch>=2.0.0->accelerate) (1.14.0)\n",
      "Requirement already satisfied: jinja2 in c:\\users\\nicol.desktop-c6fu6ua.000\\.pyenv\\pyenv-win\\versions\\3.10.11\\lib\\site-packages (from torch>=2.0.0->accelerate) (3.1.6)\n",
      "Requirement already satisfied: networkx in c:\\users\\nicol.desktop-c6fu6ua.000\\.pyenv\\pyenv-win\\versions\\3.10.11\\lib\\site-packages (from torch>=2.0.0->accelerate) (3.4.2)\n",
      "Requirement already satisfied: mpmath<1.4,>=1.1.0 in c:\\users\\nicol.desktop-c6fu6ua.000\\.pyenv\\pyenv-win\\versions\\3.10.11\\lib\\site-packages (from sympy>=1.13.3->torch>=2.0.0->accelerate) (1.3.0)\n",
      "Requirement already satisfied: colorama in c:\\users\\nicol.desktop-c6fu6ua.000\\.pyenv\\pyenv-win\\versions\\3.10.11\\lib\\site-packages (from tqdm>=4.42.1->huggingface-hub>=0.21.0->accelerate) (0.4.6)\n",
      "Requirement already satisfied: MarkupSafe>=2.0 in c:\\users\\nicol.desktop-c6fu6ua.000\\.pyenv\\pyenv-win\\versions\\3.10.11\\lib\\site-packages (from jinja2->torch>=2.0.0->accelerate) (3.0.2)\n",
      "Requirement already satisfied: certifi>=2017.4.17 in c:\\users\\nicol.desktop-c6fu6ua.000\\.pyenv\\pyenv-win\\versions\\3.10.11\\lib\\site-packages (from requests->huggingface-hub>=0.21.0->accelerate) (2025.4.26)\n",
      "Requirement already satisfied: urllib3<3,>=1.21.1 in c:\\users\\nicol.desktop-c6fu6ua.000\\.pyenv\\pyenv-win\\versions\\3.10.11\\lib\\site-packages (from requests->huggingface-hub>=0.21.0->accelerate) (2.4.0)\n",
      "Requirement already satisfied: idna<4,>=2.5 in c:\\users\\nicol.desktop-c6fu6ua.000\\.pyenv\\pyenv-win\\versions\\3.10.11\\lib\\site-packages (from requests->huggingface-hub>=0.21.0->accelerate) (3.10)\n",
      "Requirement already satisfied: charset-normalizer<4,>=2 in c:\\users\\nicol.desktop-c6fu6ua.000\\.pyenv\\pyenv-win\\versions\\3.10.11\\lib\\site-packages (from requests->huggingface-hub>=0.21.0->accelerate) (3.4.2)\n",
      "Installing collected packages: accelerate\n",
      "Successfully installed accelerate-1.6.0\n",
      "Note: you may need to restart the kernel to use updated packages.\n"
     ]
    },
    {
     "name": "stderr",
     "output_type": "stream",
     "text": [
      "  WARNING: The scripts accelerate-config.exe, accelerate-estimate-memory.exe, accelerate-launch.exe, accelerate-merge-weights.exe and accelerate.exe are installed in 'c:\\Users\\nicol.DESKTOP-C6FU6UA.000\\.pyenv\\pyenv-win\\versions\\3.10.11\\Scripts' which is not on PATH.\n",
      "  Consider adding this directory to PATH or, if you prefer to suppress this warning, use --no-warn-script-location.\n",
      "\n",
      "[notice] A new release of pip is available: 23.0.1 -> 25.1.1\n",
      "[notice] To update, run: c:\\Users\\nicol.DESKTOP-C6FU6UA.000\\.pyenv\\pyenv-win\\versions\\3.10.11\\python.exe -m pip install --upgrade pip\n"
     ]
    }
   ],
   "source": [
    "%pip install accelerate"
   ]
  },
  {
   "cell_type": "code",
   "execution_count": 12,
   "id": "8236124a",
   "metadata": {},
   "outputs": [
    {
     "name": "stderr",
     "output_type": "stream",
     "text": [
      "Device set to use cpu\n"
     ]
    }
   ],
   "source": [
    "from transformers import pipeline\n",
    "k = 10\n",
    "outputs = []\n",
    "# Pipeline Initialization\n",
    "pipeline = pipeline(\n",
    "    \"text-generation\",\n",
    "    model=model_name_1,\n",
    "    device_map=\"auto\",\n",
    ")\n",
    "\n",
    "# Prompt\n",
    "ctx = \"Eres un asistente que va directo al grano\"\n",
    "msg = \"Entrégame una lista con las 5 canciones más famosas de Iron Maiden\"\n",
    "messages = [\n",
    "    {\n",
    "        \"role\": \"system\",\n",
    "        \"content\": ctx,\n",
    "    },\n",
    "    {\"role\": \"user\", \"content\": msg}\n",
    "]\n",
    "\n",
    "prompt = pipeline.tokenizer.apply_chat_template(messages, tokenize=False, add_generation_prompt=True)\n",
    "\n",
    "for i in range(k):\n",
    "    output = pipeline(\n",
    "        prompt,\n",
    "        max_new_tokens=100,\n",
    "        do_sample=True,\n",
    "        temperature=0.7,\n",
    "        top_k=50,\n",
    "        top_p=0.95\n",
    "    )\n",
    "    outputs.append(output)"
   ]
  },
  {
   "cell_type": "code",
   "execution_count": 46,
   "id": "7d915c48",
   "metadata": {},
   "outputs": [
    {
     "name": "stdout",
     "output_type": "stream",
     "text": [
      "1. \"The Number of the Beast\", \"Run to the Hills\", \"Flight of Icarus\", \"The Wicker Man\", \"The Trooper\"\n",
      "\n",
      "2. \"The Number of the Beast\", \"Fear of the Dark\", \"The Trooper\", \"The Wicker Man\", \"Run to the Hills\"\n",
      "\n",
      "3. \"The Number of the Beast\", \"Run to the Hills\", \"The Trooper\", \"Fear of the Dark\", \"Hallowed Be Thy Name\"\n",
      "\n",
      "\n",
      "4. \"Fear of the Dark\" (1984), \"The Number of the Beast\" (1982), \"Run to the Hills\" (1982), \"The Trooper\" (1982), \"The Number of the Beast Is 666\"\n",
      "\n",
      "5. \"The Number of the Beast\" (1982), \"Run to the Hills\" (1982), \"Powerslave\" (1984), \"Fear of the Dark\" (1984), \"The Trooper\"\n",
      "\n",
      "6. \"Run to the Hills\", \"Number of the Beast\", \"Flight of Icarus\", \"The Number of the Beast\", \"The Trooper\"\n",
      "\n",
      "7. \"Run to the Hills\", \"The Number of the Beast\", \"Hallowed Be Thy Name\", \"The Trooper\", \"Flight of Icarus\"\n",
      "\n",
      "\n",
      "\n"
     ]
    }
   ],
   "source": [
    "def format_ans(ans,i=1):\n",
    "    try:\n",
    "        idx_1 = ans.index(\"1.\")\n",
    "        idx_2 = ans.index(\"2.\")\n",
    "        idx_3 = ans.index(\"3.\")\n",
    "        idx_4 = ans.index(\"4.\")\n",
    "        idx_5 = ans.index(\"5.\")\n",
    "        idx_c = idx_5 + ans[idx_5:].index(chr(34))\n",
    "        idx_end = idx_c + ans[idx_c+1:].index(chr(34))\n",
    "\n",
    "        answer = f\"{i}. {ans[idx_1+3:idx_2-1]}, {ans[idx_2+3:idx_3-1]}, {ans[idx_3+3:idx_4-1]}, {ans[idx_4+3:idx_5-1]}, {ans[idx_5+3:idx_end+2]}\\n\"\n",
    "        i+=1\n",
    "\n",
    "    except:\n",
    "        answer = \"\"\n",
    "\n",
    "    finally:\n",
    "        return answer, i\n",
    "i=1\n",
    "for out in outputs:\n",
    "    ans, i = format_ans(out[0][\"generated_text\"],i)\n",
    "    print(ans)"
   ]
  }
 ],
 "metadata": {
  "kernelspec": {
   "display_name": "Python 3",
   "language": "python",
   "name": "python3"
  },
  "language_info": {
   "codemirror_mode": {
    "name": "ipython",
    "version": 3
   },
   "file_extension": ".py",
   "mimetype": "text/x-python",
   "name": "python",
   "nbconvert_exporter": "python",
   "pygments_lexer": "ipython3",
   "version": "3.10.11"
  }
 },
 "nbformat": 4,
 "nbformat_minor": 5
}
