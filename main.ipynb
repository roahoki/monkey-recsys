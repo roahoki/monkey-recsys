{
 "cells": [
  {
   "cell_type": "markdown",
   "id": "205c6de8",
   "metadata": {},
   "source": [
    "# Propuesta de proyecto: Uso de muestreo repetitivo para mejorar el rendimiento de una LLM en recomendación conversacional"
   ]
  },
  {
   "cell_type": "code",
   "execution_count": 1,
   "id": "495d7471",
   "metadata": {},
   "outputs": [
    {
     "name": "stderr",
     "output_type": "stream",
     "text": [
      "c:\\Users\\nicol.DESKTOP-C6FU6UA.000\\.pyenv\\pyenv-win\\versions\\3.10.11\\lib\\site-packages\\tqdm\\auto.py:21: TqdmWarning: IProgress not found. Please update jupyter and ipywidgets. See https://ipywidgets.readthedocs.io/en/stable/user_install.html\n",
      "  from .autonotebook import tqdm as notebook_tqdm\n"
     ]
    }
   ],
   "source": [
    "from transformers import AutoTokenizer, AutoModelForCausalLM\n",
    "\n",
    "model_name_1 = \"TinyLlama/TinyLlama-1.1B-Chat-v1.0\"\n",
    "tokenizer_1 = AutoTokenizer.from_pretrained(model_name_1)\n",
    "# model_1 = AutoModelForCausalLM.from_pretrained(model_name_1)\n",
    "\n",
    "model_name_2 = \"distilgpt2\"\n",
    "tokenizer_2 = AutoTokenizer.from_pretrained(model_name_2)\n",
    "# model_2 = AutoModelForCausalLM.from_pretrained(model_name_2)"
   ]
  },
  {
   "cell_type": "code",
   "execution_count": 4,
   "id": "c9f178ea",
   "metadata": {},
   "outputs": [],
   "source": [
    "import Tools as t\n",
    "\n",
    "path = \"./LLM_Redial/Movie\"\n",
    "final_data_path = '{}/final_data.jsonl'.format(path)\n",
    "Conversation_path = '{}/Conversation.txt'.format(path)\n",
    "user_map_path = '{}/user_ids.json'.format(path)\n",
    "item_map_path = '{}/item_map.json'.format(path)\n",
    "\n",
    "final_data = t.read_jsonl(final_data_path)\n",
    "user_map = t.read_json(user_map_path)\n",
    "item_map = t.read_json(item_map_path)\n",
    "Conversation = t.read_dialogue(Conversation_path)"
   ]
  },
  {
   "cell_type": "code",
   "execution_count": null,
   "id": "aa334369",
   "metadata": {},
   "outputs": [
    {
     "name": "stdout",
     "output_type": "stream",
     "text": [
      "{\n",
      "    \"train\": [\n",
      "        \"0784013470\",\n",
      "        \"B0001XAPWE\",\n",
      "        \"6304632444\",\n",
      "        \"6300216691\",\n",
      "        \"B000006DAL\",\n",
      "        \"B0000639GO\"\n",
      "    ],\n",
      "    \"test\": [\n",
      "        \"6302309506\",\n",
      "        \"7883704591\",\n",
      "        \"B004ZBA9P6\"\n",
      "    ]\n",
      "}\n",
      "['0784013470', 'B0001XAPWE', '6304632444', '6300216691', 'B000006DAL', 'B0000639GO']\n"
     ]
    }
   ],
   "source": [
    "import json\n",
    "import random\n",
    "\n",
    "# Ruta del archivo\n",
    "final_path = './LLM_Redial/Movie/final_data.jsonl'\n",
    "movie_map_path = './LLM_Redial/Movie/item_map.json'\n",
    "\n",
    "# Leer el archivo JSONL\n",
    "with open(final_path, 'r', encoding='utf-8') as file:\n",
    "    data = [json.loads(line) for line in file]\n",
    "\n",
    "user_id = \"AQP1VPK16SVWM\"\n",
    "user_data = next((item[user_id] for item in data if user_id in item), None)\n",
    "\n",
    "user_conversation = user_data.get(\"Conversation\", [])\n",
    "combined_user_likes = []\n",
    "for conversation in user_conversation:\n",
    "    for key, value in conversation.items():\n",
    "        combined_user_likes.extend(value.get(\"user_likes\", []))\n",
    "\n",
    "combined_user_likes = list(set(combined_user_likes))\n",
    "\n",
    "if user_data:\n",
    "    user_likes = combined_user_likes\n",
    "    \n",
    "    # Mezclar los datos aleatoriamente\n",
    "    random.shuffle(user_likes)\n",
    "    \n",
    "    # Realizar el split 60-40\n",
    "    split_index = int(len(user_likes) * 0.7)\n",
    "    train_likes = user_likes[:split_index]\n",
    "    test_likes = user_likes[split_index:]\n",
    "    \n",
    "    # Formatear el resultado\n",
    "    split_data = {\n",
    "        \"train\": train_likes,\n",
    "        \"test\": test_likes\n",
    "    }\n",
    "    \n",
    "    # Imprimir el resultado\n",
    "    print(json.dumps(split_data, indent=4))\n",
    "else:\n",
    "    print(f\"No se encontraron datos para el usuario {user_id}.\")\n"
   ]
  },
  {
   "cell_type": "code",
   "execution_count": 49,
   "id": "f0eb4a6d",
   "metadata": {},
   "outputs": [
    {
     "name": "stdout",
     "output_type": "stream",
     "text": [
      "['Stir Of Echoes', 'The Barbarian Invasions', 'Quatermass &amp; The Pit VHS', 'Islands in the Stream VHS', 'The Three Musketeers/The Four Musketeers VHS', 'And Now the Screaming Starts']\n"
     ]
    }
   ],
   "source": [
    "print(train_likes)"
   ]
  },
  {
   "cell_type": "code",
   "execution_count": null,
   "id": "443c24b2",
   "metadata": {},
   "outputs": [],
   "source": []
  },
  {
   "cell_type": "code",
   "execution_count": null,
   "id": "ed7afb73",
   "metadata": {},
   "outputs": [
    {
     "name": "stderr",
     "output_type": "stream",
     "text": [
      "Some parameters are on the meta device because they were offloaded to the disk and cpu.\n",
      "Device set to use cpu\n"
     ]
    }
   ],
   "source": [
    "from transformers import pipeline\n",
    "k = 1\n",
    "outputs = []\n",
    "# Pipeline Initialization\n",
    "pipe = pipeline(\n",
    "    \"text-generation\",\n",
    "    model=model_name_1,\n",
    "    device_map=\"auto\",\n",
    ")\n",
    "\n",
    "# Prompt\n",
    "ctx = \"You are a movie recommendation system. Your task is to provide personalized movie recommendations based on the user's preferences. The user has provided a list of movies they like which is, and you need to suggest similar movies they might enjoy.\"\n",
    "msg = (\n",
    "    \"Based on the following movies the user likes: \" + str(train_likes) +\n",
    "    \". Suggest 10 similar movies that the user might enjoy. \"\n",
    "    \"Do NOT include any of the listed movies in your response. \"\n",
    "    \"List only the movie titles, one per line. The titles MUST be different from the given ones.\"\n",
    ")\n",
    "\n",
    "messages = [\n",
    "    {\n",
    "        \"role\": \"system\",\n",
    "        \"content\": ctx,\n",
    "    },\n",
    "    {\"role\": \"user\", \"content\": msg}\n",
    "]\n",
    "\n",
    "prompt = pipe.tokenizer.apply_chat_template(messages, tokenize=False, add_generation_prompt=True)\n",
    "\n",
    "for i in range(k):\n",
    "    output = pipe(\n",
    "        prompt,\n",
    "        max_new_tokens=100,\n",
    "        do_sample=True,\n",
    "        temperature=0.7,\n",
    "        top_k=50,\n",
    "        top_p=0.95\n",
    "    )\n",
    "    outputs.append(output)"
   ]
  },
  {
   "cell_type": "code",
   "execution_count": 47,
   "id": "c47f5497",
   "metadata": {},
   "outputs": [
    {
     "name": "stdout",
     "output_type": "stream",
     "text": [
      "<|system|>\n",
      "You are a movie recommendation system. Your task is to provide personalized movie recommendations based on the user's preferences. The user has provided a list of movies they like, and you need to suggest similar movies they might enjoy.</s>\n",
      "<|user|>\n",
      "Give me a list of 10 movie recommendations based on the following movies: ['Stir Of Echoes', 'The Barbarian Invasions', 'Quatermass &amp; The Pit VHS', 'Islands in the Stream VHS', 'The Three Musketeers/The Four Musketeers VHS', 'And Now the Screaming Starts'] excluding the given movies. Please provide the movie names only, without any additional information.</s>\n",
      "<|assistant|>\n",
      "Here are 10 movie recommendations based on the given movies:\n",
      "\n",
      "1. \"Stir of Echoes\" (1999) - Directed by David Koepp, starring Mark Wahlberg, Kathryn Morris, and Kiefer Sutherland\n",
      "\n",
      "2. \"The Barbarian Invasions\" (1983) - Directed by James Frawley, starring Robert Urich, Robert Foxworth, and Susan\n"
     ]
    }
   ],
   "source": [
    "for out in outputs:\n",
    "    print(out[0]['generated_text'])"
   ]
  }
 ],
 "metadata": {
  "kernelspec": {
   "display_name": "Python 3",
   "language": "python",
   "name": "python3"
  },
  "language_info": {
   "codemirror_mode": {
    "name": "ipython",
    "version": 3
   },
   "file_extension": ".py",
   "mimetype": "text/x-python",
   "name": "python",
   "nbconvert_exporter": "python",
   "pygments_lexer": "ipython3",
   "version": "3.10.11"
  }
 },
 "nbformat": 4,
 "nbformat_minor": 5
}
